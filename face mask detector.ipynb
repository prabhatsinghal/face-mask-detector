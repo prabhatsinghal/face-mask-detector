{
 "cells": [
  {
   "cell_type": "markdown",
   "metadata": {},
   "source": [
    "#                                         Face mask detector"
   ]
  },
  {
   "cell_type": "code",
   "execution_count": 4,
   "metadata": {},
   "outputs": [],
   "source": [
    "import tensorflow as tf"
   ]
  },
  {
   "cell_type": "code",
   "execution_count": 5,
   "metadata": {},
   "outputs": [],
   "source": [
    "from tensorflow import keras\n"
   ]
  },
  {
   "cell_type": "code",
   "execution_count": 6,
   "metadata": {},
   "outputs": [
    {
     "name": "stdout",
     "output_type": "stream",
     "text": [
      "['with mask', 'without mask']\n",
      "[0, 1]\n",
      "{'with mask': 0, 'without mask': 1}\n"
     ]
    }
   ],
   "source": [
    "import cv2,os\n",
    "datapath='dataset'\n",
    "categories=os.listdir(datapath)\n",
    "labels=[i for i in range(len(categories))]\n",
    "labels_dic=dict(zip(categories,labels))\n",
    "\n",
    "print(categories)\n",
    "print(labels)\n",
    "print(labels_dic)"
   ]
  },
  {
   "cell_type": "markdown",
   "metadata": {},
   "source": [
    "# Data preprocessing"
   ]
  },
  {
   "cell_type": "code",
   "execution_count": 7,
   "metadata": {},
   "outputs": [],
   "source": [
    "image_size=100\n",
    "data=[]\n",
    "target=[]\n",
    "\n",
    "for category in categories:\n",
    "  folder_path=os.path.join(datapath,category)\n",
    "  image_names=os.listdir(folder_path)\n",
    "  \n",
    "  for image_name in image_names:\n",
    "    image_path=os.path.join(folder_path,image_name)\n",
    "    image=cv2.imread(image_path)\n",
    "    \n",
    "    try:\n",
    "      #first i will convert BGR image to gray scale and then will resize it to images of same size and color schema.\n",
    "      gray=cv2.cvtColor(image,cv2.COLOR_BGR2GRAY)\n",
    "      resized=cv2.resize(gray,(image_size,image_size))\n",
    "      #then will append into data and target.\n",
    "      data.append(resized)\n",
    "      target.append(labels_dic[category])\n",
    "    \n",
    "    except Exception as e:\n",
    "      print(\"Exception:\",e)\n",
    "      #if any exception arise then exception will print"
   ]
  },
  {
   "cell_type": "code",
   "execution_count": 8,
   "metadata": {},
   "outputs": [],
   "source": [
    "import numpy as np\n",
    "#normalise the image by 255 so that pixel range can come in 0-1 range \n",
    "data=np.array(data)/255.0\n",
    "data=np.reshape(data,(data.shape[0],image_size,image_size,1))\n",
    "target=np.array(target)\n",
    "#convert numerical target to categorical target\n",
    "from keras.utils import np_utils\n",
    "target=np_utils.to_categorical(target)"
   ]
  },
  {
   "cell_type": "markdown",
   "metadata": {},
   "source": [
    "# Model architecture"
   ]
  },
  {
   "cell_type": "code",
   "execution_count": 9,
   "metadata": {},
   "outputs": [],
   "source": [
    "from keras.models import Sequential\n",
    "from keras.layers import Dense,Flatten,Dropout,Activation\n",
    "from keras.layers import Conv2D,MaxPooling2D\n",
    "\n",
    "model=Sequential()\n",
    "model.add(Conv2D(100,(3,3),input_shape=data.shape[1:]))\n",
    "model.add(Activation('relu'))\n",
    "model.add(MaxPooling2D(pool_size=(2,2)))\n",
    "model.add(Dropout(.25))\n",
    "\n",
    "model.add(Conv2D(50,(3,3)))\n",
    "model.add(Activation('relu'))\n",
    "model.add(MaxPooling2D(pool_size=(2,2)))\n",
    "model.add(Dropout(.25))\n",
    "\n",
    "model.add(Flatten())\n",
    "model.add(Dense(50,activation='relu'))\n",
    "model.add(Dropout(.40))\n",
    "model.add(Dense(2,activation='softmax'))\n",
    "model.compile(loss='categorical_crossentropy',optimizer='adam',metrics=['accuracy'])"
   ]
  },
  {
   "cell_type": "code",
   "execution_count": 10,
   "metadata": {},
   "outputs": [],
   "source": [
    "from sklearn.model_selection import train_test_split\n",
    "train_data,test_data,train_target,test_target=train_test_split(data,target,test_size=.1)"
   ]
  },
  {
   "cell_type": "code",
   "execution_count": 11,
   "metadata": {},
   "outputs": [
    {
     "name": "stdout",
     "output_type": "stream",
     "text": [
      "Epoch 1/15\n",
      "31/31 [==============================] - 33s 1s/step - loss: 0.7296 - accuracy: 0.5017 - val_loss: 0.6464 - val_accuracy: 0.6169\n",
      "Epoch 2/15\n",
      "31/31 [==============================] - 30s 963ms/step - loss: 0.6341 - accuracy: 0.6573 - val_loss: 0.5317 - val_accuracy: 0.6815\n",
      "Epoch 3/15\n",
      "31/31 [==============================] - 31s 989ms/step - loss: 0.4873 - accuracy: 0.7856 - val_loss: 0.2499 - val_accuracy: 0.9194\n",
      "Epoch 4/15\n",
      "31/31 [==============================] - 29s 947ms/step - loss: 0.2600 - accuracy: 0.8997 - val_loss: 0.2107 - val_accuracy: 0.9113\n",
      "Epoch 5/15\n",
      "31/31 [==============================] - 29s 947ms/step - loss: 0.2008 - accuracy: 0.9286 - val_loss: 0.2197 - val_accuracy: 0.9032\n",
      "Epoch 6/15\n",
      "31/31 [==============================] - 29s 954ms/step - loss: 0.1779 - accuracy: 0.9234 - val_loss: 0.1461 - val_accuracy: 0.9194\n",
      "Epoch 7/15\n",
      "31/31 [==============================] - 30s 961ms/step - loss: 0.1150 - accuracy: 0.9690 - val_loss: 0.0988 - val_accuracy: 0.9637\n",
      "Epoch 8/15\n",
      "31/31 [==============================] - 30s 958ms/step - loss: 0.0985 - accuracy: 0.9628 - val_loss: 0.0977 - val_accuracy: 0.9476\n",
      "Epoch 9/15\n",
      "31/31 [==============================] - 30s 959ms/step - loss: 0.0816 - accuracy: 0.9732 - val_loss: 0.1157 - val_accuracy: 0.9597\n",
      "Epoch 10/15\n",
      "31/31 [==============================] - 30s 968ms/step - loss: 0.0859 - accuracy: 0.9616 - val_loss: 0.1051 - val_accuracy: 0.9516\n",
      "Epoch 11/15\n",
      "31/31 [==============================] - 30s 955ms/step - loss: 0.0392 - accuracy: 0.9881 - val_loss: 0.1307 - val_accuracy: 0.9597\n",
      "Epoch 12/15\n",
      "31/31 [==============================] - 30s 955ms/step - loss: 0.0806 - accuracy: 0.9666 - val_loss: 0.1258 - val_accuracy: 0.9476\n",
      "Epoch 13/15\n",
      "31/31 [==============================] - 30s 955ms/step - loss: 0.0403 - accuracy: 0.9867 - val_loss: 0.1088 - val_accuracy: 0.9435\n",
      "Epoch 14/15\n",
      "31/31 [==============================] - 30s 962ms/step - loss: 0.0275 - accuracy: 0.9887 - val_loss: 0.1234 - val_accuracy: 0.9597\n",
      "Epoch 15/15\n",
      "31/31 [==============================] - 30s 971ms/step - loss: 0.0403 - accuracy: 0.9868 - val_loss: 0.1242 - val_accuracy: 0.9597\n"
     ]
    }
   ],
   "source": [
    "history=model.fit(train_data,train_target,epochs=15,validation_split=.2)"
   ]
  },
  {
   "cell_type": "code",
   "execution_count": 12,
   "metadata": {},
   "outputs": [
    {
     "data": {
      "image/png": "[encoded data removed]",
      "text/plain": [
       "<Figure size 432x288 with 1 Axes>"
      ]
     },
     "metadata": {
      "needs_background": "light"
     },
     "output_type": "display_data"
    }
   ],
   "source": [
    "from matplotlib import pyplot as plt\n",
    "plt.plot(history.history['loss'],label='training_loss')\n",
    "plt.plot(history.history['val_loss'],label='validation_loss')\n",
    "plt.xlabel=(' epochs')\n",
    "plt.ylabel=('loss')\n",
    "plt.legend()\n",
    "plt.show()"
   ]
  },
  {
   "cell_type": "code",
   "execution_count": 13,
   "metadata": {},
   "outputs": [
    {
     "data": {
      "image/png": "[encoded data removed]",
      "text/plain": [
       "<Figure size 432x288 with 1 Axes>"
      ]
     },
     "metadata": {
      "needs_background": "light"
     },
     "output_type": "display_data"
    }
   ],
   "source": [
    "from matplotlib import pyplot as plt\n",
    "plt.plot(history.history['accuracy'],'r',label='training_accuracy')\n",
    "plt.plot(history.history['val_accuracy'],'g',label='validation_accuracy')\n",
    "plt.xlabel=('epochs')\n",
    "plt.ylabel=('accuracy')\n",
    "plt.legend()\n",
    "plt.show()"
   ]
  },
  {
   "cell_type": "code",
   "execution_count": 14,
   "metadata": {},
   "outputs": [
    {
     "name": "stdout",
     "output_type": "stream",
     "text": [
      "5/5 [==============================] - 1s 163ms/step - loss: 0.3384 - accuracy: 0.9348\n",
      "[0.33842188119888306, 0.9347826242446899]\n"
     ]
    }
   ],
   "source": [
    "print(model.evaluate(test_data,test_target))"
   ]
  },
  {
   "cell_type": "markdown",
   "metadata": {},
   "source": [
    "# Detect face wearing mask or not"
   ]
  },
  {
   "cell_type": "code",
   "execution_count": 15,
   "metadata": {},
   "outputs": [],
   "source": [
    "face_clsfr = cv2.CascadeClassifier('haarcascade_frontalface_default.xml')\n",
    "source=cv2.VideoCapture(0)\n",
    "labels_dict={0:'MASK',1:'NO MASK'}\n",
    "color_dict={0:(0,255,0),1:(0,0,255)}"
   ]
  },
  {
   "cell_type": "code",
   "execution_count": null,
   "metadata": {},
   "outputs": [],
   "source": [
    "while True:\n",
    "    \n",
    "    ret,img=source.read()\n",
    "    gray=cv2.cvtColor(img,cv2.COLOR_BGR2GRAY)  \n",
    "  \n",
    "    faces=face_clsfr.detectMultiScale(gray,2,5)\n",
    "    \n",
    "    for x,y,w,h in faces:\n",
    "        face_img=gray[y:y+h,x:x+w]\n",
    "        resized=cv2.resize(face_img,(100,100))\n",
    "        normalised=resized/255.0\n",
    "        reshaped=np.reshape(normalised,(1,100,100,1))\n",
    "        result=model.predict(reshaped)\n",
    "\n",
    "        result=np.argmax(result,axis=1)[0]\n",
    "        cv2.rectangle(img,(x,y),(x+w,y+h),color_dict[result],2)\n",
    "        cv2.rectangle(img,(x,y-40),(x+w,y),color_dict[result],-1)\n",
    "        cv2.putText(img,labels_dict[result],(x,y-10),cv2.FONT_HERSHEY_SIMPLEX,0.8,(255,255,255),2)\n",
    "\n",
    "        cv2.imshow('LIVE',img)\n",
    "        key=cv2.waitKey(1)\n",
    "    \n",
    "    \n",
    "  \n",
    "  \n",
    "    \n",
    "\n",
    "  #27=ASCII of escape key\n",
    "        if key==27:\n",
    "            break\n",
    "source.release()      \n",
    "cv2.destroyAllWindows()        \n",
    "        \n",
    "      \n"
   ]
  },
  {
   "cell_type": "code",
   "execution_count": null,
   "metadata": {},
   "outputs": [],
   "source": []
  }
 ],
 "metadata": {
  "kernelspec": {
   "display_name": "Python 3",
   "language": "python",
   "name": "python3"
  },
  "language_info": {
   "codemirror_mode": {
    "name": "ipython",
    "version": 3
   },
   "file_extension": ".py",
   "mimetype": "text/x-python",
   "name": "python",
   "nbconvert_exporter": "python",
   "pygments_lexer": "ipython3",
   "version": "3.8.5"
  }
 },
 "nbformat": 4,
 "nbformat_minor": 4
}
